{
 "cells": [
  {
   "cell_type": "markdown",
   "metadata": {},
   "source": [
    "# Fall detection"
   ]
  },
  {
   "cell_type": "code",
   "execution_count": 17,
   "metadata": {},
   "outputs": [],
   "source": [
    "import pandas as pd\n",
    "from sklearn.preprocessing import LabelEncoder\n",
    "from sklearn.ensemble import AdaBoostClassifier\n",
    "from sklearn.metrics import accuracy_score\n",
    "from sklearn.impute import SimpleImputer"
   ]
  },
  {
   "cell_type": "code",
   "execution_count": 44,
   "metadata": {},
   "outputs": [],
   "source": [
    "# Charger les données\n",
    "dataTr = pd.read_csv('../data/trainData.csv')\n",
    "dataTs = pd.read_csv('../data/testData.csv')\n",
    "\n",
    "# Imputer les valeurs manquantes avec la moyenne\n",
    "imputer = SimpleImputer(strategy='mean')\n",
    "\n",
    "# Préparer les données d'entraînement\n",
    "X_train = dataTr.iloc[:, 1:].values  # Toutes les colonnes sauf la première\n",
    "Y_train = dataTr.iloc[:, 0].values   # La première colonne\n",
    "\n",
    "# Préparer les données de test\n",
    "X_test = dataTs.iloc[:, 1:].values  # Toutes les colonnes sauf la première\n",
    "Y_test = dataTs.iloc[:, 0].values   # La première colonne\n",
    "\n",
    "# Appliquer l'imputation\n",
    "X_train = imputer.fit_transform(X_train)\n",
    "X_test = imputer.transform(X_test)\n"
   ]
  },
  {
   "cell_type": "markdown",
   "metadata": {},
   "source": [
    "## Adaboost"
   ]
  },
  {
   "cell_type": "code",
   "execution_count": 36,
   "metadata": {},
   "outputs": [
    {
     "name": "stdout",
     "output_type": "stream",
     "text": [
      "Précision du modèle AdaBoost : 0.88\n"
     ]
    }
   ],
   "source": [
    "# Encoder les étiquettes\n",
    "le = LabelEncoder()\n",
    "Y_train = le.fit_transform(Y_train)\n",
    "Y_test = le.transform(Y_test)\n",
    "\n",
    "# Initialiser le classifieur AdaBoost\n",
    "adaboost = AdaBoostClassifier(n_estimators=10, random_state=42)\n",
    "\n",
    "# Entraîner le modèle\n",
    "adaboost.fit(X_train, Y_train)\n",
    "\n",
    "# Faire des prédictions\n",
    "Y_pred = adaboost.predict(X_test)\n",
    "\n",
    "# Calculer la précision\n",
    "accuracy = accuracy_score(Y_test, Y_pred)\n",
    "print(f'Précision du modèle AdaBoost : {accuracy:.2f}')"
   ]
  },
  {
   "cell_type": "markdown",
   "metadata": {},
   "source": [
    "## Random foret"
   ]
  },
  {
   "cell_type": "code",
   "execution_count": 45,
   "metadata": {},
   "outputs": [
    {
     "name": "stdout",
     "output_type": "stream",
     "text": [
      "Précision du modèle Random forest : 0.88\n"
     ]
    }
   ],
   "source": [
    "\n",
    "nb_trees = 100\n",
    "\n",
    "# Encoder les étiquettes\n",
    "le = LabelEncoder()\n",
    "Y_train = le.fit_transform(Y_train)\n",
    "Y_test = le.transform(Y_test)\n",
    "\n",
    "# Initialiser le classifieur AdaBoost\n",
    "rnd_clf = RandomForestClassifier(n_estimators=nb_trees, n_jobs=-1, random_state=42)\n",
    "\n",
    "# Entraîner le modèle\n",
    "rnd_clf.fit(X_train, Y_train)\n",
    "\n",
    "# Faire des prédictions\n",
    "Y_pred = rnd_clf.predict(X_test)\n",
    "\n",
    "# Calculer la précision\n",
    "accuracy = accuracy_score(Y_test, Y_pred)\n",
    "print(f'Précision du modèle Random forest : {accuracy:.2f}')"
   ]
  }
 ],
 "metadata": {
  "kernelspec": {
   "display_name": "Python 3",
   "language": "python",
   "name": "python3"
  },
  "language_info": {
   "codemirror_mode": {
    "name": "ipython",
    "version": 3
   },
   "file_extension": ".py",
   "mimetype": "text/x-python",
   "name": "python",
   "nbconvert_exporter": "python",
   "pygments_lexer": "ipython3",
   "version": "3.12.9"
  }
 },
 "nbformat": 4,
 "nbformat_minor": 2
}
